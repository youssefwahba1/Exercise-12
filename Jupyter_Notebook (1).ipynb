{
 "cells": [
  {
   "cell_type": "markdown",
   "metadata": {},
   "source": [
    "<center>\n",
    "    <img src=\"https://cf-courses-data.s3.us.cloud-object-storage.appdomain.cloud/IBMDeveloperSkillsNetwork-DS0105EN-SkillsNetwork/labs/Module2/images/SN_web_lightmode.png\" width=\"300\" alt=\"cognitiveclass.ai logo\">\n",
    "</center>\n"
   ]
  },
  {
   "cell_type": "markdown",
   "metadata": {},
   "source": [
    "#### Add your code below following the instructions given in the course\n"
   ]
  },
  {
   "cell_type": "markdown",
   "metadata": {},
   "source": [
    "**Data Science**"
   ]
  },
  {
   "cell_type": "markdown",
   "metadata": {},
   "source": [
    "**Introduction**\n",
    "In an era of digital transformation and an abundance of data, businesses and organizations face the challenge of extracting valuable insights from the massive volume of information at their disposal. Data Science, a burgeoning field at the intersection of computer science, statistics, and domain expertise, equips us with the tools and methodologies to turn raw data into actionable intelligence. This report explores the multifaceted world of data science, its methodologies, applications, and the indispensable role it plays in shaping our present and future."
   ]
  },
  {
   "cell_type": "markdown",
   "metadata": {},
   "source": [
    "**Languages** : data scientists can use many programming languages like Java , JS , Julia , Ruby and others but the most popular and most used worldwide by Data scientists are Python and R"
   ]
  },
  {
   "cell_type": "markdown",
   "metadata": {},
   "source": [
    "**Libraries** Data science libraries are collections of pre-built functions, tools, and modules that facilitate various tasks some of those which are used by data scientists are : \n",
    "1- *Numpy*\n",
    "2- *Scikit-Learn*\n",
    "3- *TensorFlow*\n",
    "4- *PyTorch*\n",
    "5- *SciPy*\n",
    "6- *NLTK (Natural Language Toolkit)*"
   ]
  },
  {
   "cell_type": "markdown",
   "metadata": {
    "tags": []
   },
   "source": [
    "**Tools** \n",
    "1-*Jupyter Notebook*\n",
    "2-*SQL*\n",
    "3-*Spark*\n",
    "4-*Hadoop*\n",
    "5-*R studio*\n"
   ]
  },
  {
   "cell_type": "markdown",
   "metadata": {},
   "source": [
    "**arithmetic expression**\n",
    "1- *Addition* 5 + 5 = 10\n",
    "2- *Substraction* 5 - 5 = 0 \n",
    "3- *Division* 5 / 5 = 1 \n",
    "4- *Multiplication* 5 * 5 = 25 "
   ]
  },
  {
   "cell_type": "markdown",
   "metadata": {
    "tags": []
   },
   "source": [
    "# Enter the numbers you want to multiply or add \n",
    "num1 = int(input (\"Enter the first number\"))\n",
    "num2 = int(input (\"Enter the second number\"))\n",
    "op = input (\"Enter the aithmetic operator\")\n",
    "if op == '+' :\n",
    "            print (num1 + num2)\n",
    "if op == '*' :\n",
    "            print (num1 * num2)\n",
    "            "
   ]
  },
  {
   "cell_type": "code",
   "execution_count": null,
   "metadata": {
    "tags": []
   },
   "outputs": [],
   "source": [
    "#minutes to hours\n",
    "x = int(input (\"Enter the time in minutes\"))\n",
    "xInHours = x / 60\n",
    "print (xInHours)"
   ]
  },
  {
   "cell_type": "markdown",
   "metadata": {},
   "source": [
    "**Objectives**"
   ]
  },
  {
   "cell_type": "markdown",
   "metadata": {},
   "source": [
    "**Author’s name**\n",
    "Youssef Atef"
   ]
  },
  {
   "cell_type": "markdown",
   "metadata": {},
   "source": [
    "**Exercise 12** Done"
   ]
  },
  {
   "cell_type": "code",
   "execution_count": null,
   "metadata": {},
   "outputs": [],
   "source": []
  }
 ],
 "metadata": {
  "kernelspec": {
   "display_name": "Python",
   "language": "python",
   "name": "conda-env-python-py"
  },
  "language_info": {
   "codemirror_mode": {
    "name": "ipython",
    "version": 3
   },
   "file_extension": ".py",
   "mimetype": "text/x-python",
   "name": "python",
   "nbconvert_exporter": "python",
   "pygments_lexer": "ipython3",
   "version": "3.7.12"
  }
 },
 "nbformat": 4,
 "nbformat_minor": 4
}
